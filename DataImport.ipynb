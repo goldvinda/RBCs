{
 "cells": [
  {
   "attachments": {},
   "cell_type": "markdown",
   "metadata": {},
   "source": [
    "**Replication of Aguiar & Gopinath (2007): Emerging Market Business Cycles: The cycle is the trend**\n",
    "\n",
    "Empirical regularities + Matlab Codes"
   ]
  },
  {
   "cell_type": "code",
   "execution_count": null,
   "metadata": {},
   "outputs": [],
   "source": [
    "import pandas as pd #For data manipulation\n",
    "import numpy as np #For matrices handling\n",
    "import requests #For API interaction\n",
    "\n",
    "#We will work with data from Mexico and Canada, 1980 to 2022, quarterly. Check for sources.\n",
    "\n",
    "#Variables are: Output, Household Consumption (excl. Gov consumption), or private consumption\n",
    "#Investment (as gross fixed capital accumulation), Net exports (X-I).\n",
    "\n",
    "#Seasonal adjustment Using X12 ARIMA.\n",
    "\n",
    "#Filterred of the series using HP 1600, (robust check with band pass freqs btw 6 and 32\n",
    "\n",
    "#Moments of the RBC covered (using GMM, standard errores reported in parenthesis.)\n",
    "\n",
    "#Exporting tables for authors contribution\n",
    "\n",
    "#Figures for presentation.\n"
   ]
  }
 ],
 "metadata": {
  "language_info": {
   "name": "python"
  },
  "orig_nbformat": 4
 },
 "nbformat": 4,
 "nbformat_minor": 2
}
