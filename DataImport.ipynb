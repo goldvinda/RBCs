{
 "cells": [
  {
   "attachments": {},
   "cell_type": "markdown",
   "metadata": {},
   "source": [
    "**Replication of Aguiar & Gopinath (2007): Emerging Market Business Cycles: The cycle is the trend**\n",
    "\n",
    "Empirical regularities + Matlab Codes"
   ]
  },
  {
   "cell_type": "code",
   "execution_count": 1,
   "metadata": {},
   "outputs": [
    {
     "name": "stdout",
     "output_type": "stream",
     "text": [
      "{'header': {'id': '72832381-3c18-4955-a438-fe21d3b96157', 'test': False, 'prepared': '2023-02-20T00:31:05.367469Z', 'sender': {'id': 'OECD', 'name': 'Organisation for Economic Co-operation and Development'}, 'links': [{'href': 'https://stats.oecd.org:443/sdmx-json/data/QNA/MEX.GDP+B1_GE.CUR+VOBARSA.Q/all?startTime=1980-Q2&endTime=2011-Q4&dimensionAtObservation=allDimensions', 'rel': 'request'}]}, 'dataSets': [{'action': 'Information', 'observations': {'0:0:0:0:0': [8116813.7, 0, 0, 0, 0, 0], '0:0:0:0:1': [8292036.6, 0, 0, 0, 0, 0], '0:0:0:0:2': [8532162.9, 0, 0, 0, 0, 0], '0:0:0:0:3': [8722683.8, 0, 0, 0, 0, 0], '0:0:0:0:4': [8948701.0, 0, 0, 0, 0, 0], '0:0:0:0:5': [8995481.0, 0, 0, 0, 0, 0], '0:0:0:0:6': [9156642.0, 0, 0, 0, 0, 0], '0:0:0:0:7': [8980213.0, 0, 0, 0, 0, 0], '0:0:0:0:8': [8993897.2, 0, 0, 0, 0, 0], '0:0:0:0:9': [8929212.7, 0, 0, 0, 0, 0], '0:0:0:0:10': [8733285.4, 0, 0, 0, 0, 0], '0:0:0:0:11': [8668713.5, 0, 0, 0, 0, 0], '0:0:0:0:12': [8494410.4, 0, 0, 0, 0, 0], '0:0:0:0:13': [8564926.2, 0, 0, 0, 0, 0], '0:0:0:0:14': [8663461.0, 0, 0, 0, 0, 0], '0:0:0:0:15': [8902582.4, 0, 0, 0, 0, 0], '0:0:0:0:16': [8771546.1, 0, 0, 0, 0, 0], '0:0:0:0:17': [8983953.9, 0, 0, 0, 0, 0], '0:0:0:0:18': [8904784.5, 0, 0, 0, 0, 0], '0:0:0:0:19': [9067663.0, 0, 0, 0, 0, 0], '0:0:0:0:20': [9059806.7, 0, 0, 0, 0, 0], '0:0:0:0:21': [9116467.1, 0, 0, 0, 0, 0], '0:0:0:0:22': [9091716.2, 0, 0, 0, 0, 0], '0:0:0:0:23': [8916406.3, 0, 0, 0, 0, 0], '0:0:0:0:24': [8883101.7, 0, 0, 0, 0, 0], '0:0:0:0:25': [8714481.9, 0, 0, 0, 0, 0], '0:0:0:0:26': [8690689.4, 0, 0, 0, 0, 0], '0:0:0:0:27': [8742614.1, 0, 0, 0, 0, 0], '0:0:0:0:28': [8981832.3, 0, 0, 0, 0, 0], '0:0:0:0:29': [8991448.3, 0, 0, 0, 0, 0], '0:0:0:0:30': [9100094.4, 0, 0, 0, 0, 0], '0:0:0:0:31': [9038622.6, 0, 0, 0, 0, 0], '0:0:0:0:32': [9009622.0, 0, 0, 0, 0, 0], '0:0:0:0:33': [9020741.9, 0, 0, 0, 0, 0], '0:0:0:0:34': [9200455.9, 0, 0, 0, 0, 0], '0:0:0:0:35': [9372842.8, 0, 0, 0, 0, 0], '0:0:0:0:36': [9376423.7, 0, 0, 0, 0, 0], '0:0:0:0:37': [9551211.9, 0, 0, 0, 0, 0], '0:0:0:0:38': [9466992.0, 0, 0, 0, 0, 0], '0:0:0:0:39': [9672827.6, 0, 0, 0, 0, 0], '0:0:0:0:40': [9882708.8, 0, 0, 0, 0, 0], '0:0:0:0:41': [10017522.5, 0, 0, 0, 0, 0], '0:0:0:0:42': [10144840.5, 0, 0, 0, 0, 0], '0:0:0:0:43': [10172800.6, 0, 0, 0, 0, 0], '0:0:0:0:44': [10328467.4, 0, 0, 0, 0, 0], '0:0:0:0:45': [10347672.5, 0, 0, 0, 0, 0], '0:0:0:0:46': [10534569.0, 0, 0, 0, 0, 0], '0:0:0:0:47': [10533648.1, 0, 0, 0, 0, 0], '0:0:0:0:48': [10706381.6, 0, 0, 0, 0, 0], '0:0:0:0:49': [10805798.7, 0, 0, 0, 0, 0], '0:0:0:0:50': [10814800.8, 0, 0, 0, 0, 0], '0:0:0:0:51': [10810831.9, 0, None, 0, 0, 0], '0:0:0:0:52': [10839603.0, 0, None, 0, 0, 0], '0:0:0:0:53': [10950418.8, 0, None, 0, 0, 0], '0:0:0:0:54': [11095340.7, 0, None, 0, 0, 0], '0:0:0:0:55': [11208507.5, 0, None, 0, 0, 0], '0:0:0:0:56': [11444034.4, 0, None, 0, 0, 0], '0:0:0:0:57': [11532374.6, 0, None, 0, 0, 0], '0:0:0:0:58': [11666651.9, 0, None, 0, 0, 0], '0:0:0:0:59': [10995106.5, 0, None, 0, 0, 0], '0:0:0:0:60': [10457241.2, 0, None, 0, 0, 0], '0:0:0:0:61': [10655490.4, 0, None, 0, 0, 0], '0:0:0:0:62': [10859733.2, 0, None, 0, 0, 0], '0:0:0:0:63': [11152141.4, 0, None, 0, 0, 0], '0:0:0:0:64': [11297913.9, 0, None, 0, 0, 0], '0:0:0:0:65': [11488422.3, 0, None, 0, 0, 0], '0:0:0:0:66': [11835413.8, 0, None, 0, 0, 0], '0:0:0:0:67': [11856390.7, 0, None, 0, 0, 0], '0:0:0:0:68': [12127625.1, 0, None, 0, 0, 0], '0:0:0:0:69': [12359125.1, 0, None, 0, 0, 0], '0:0:0:0:70': [12665571.8, 0, None, 0, 0, 0], '0:0:0:0:71': [12781969.4, 0, None, 0, 0, 0], '0:0:0:0:72': [12873852.3, 0, None, 0, 0, 0], '0:0:0:0:73': [12940499.9, 0, None, 0, 0, 0], '0:0:0:0:74': [12957773.1, 0, None, 0, 0, 0], '0:0:0:0:75': [13088804.3, 0, None, 0, 0, 0], '0:0:0:0:76': [13166432.7, 0, None, 0, 0, 0], '0:0:0:0:77': [13295074.8, 0, None, 0, 0, 0], '0:0:0:0:78': [13417036.3, 0, None, 0, 0, 0], '0:0:0:0:79': [13669846.8, 0, None, 0, 0, 0], '0:0:0:0:80': [13875611.2, 0, None, 0, 0, 0], '0:0:0:0:81': [14017272.0, 0, None, 0, 0, 0], '0:0:0:0:82': [13895904.3, 0, None, 0, 0, 0], '0:0:0:0:83': [13900061.1, 0, None, 0, 0, 0], '0:0:0:0:84': [13825350.7, 0, None, 0, 0, 0], '0:0:0:0:85': [13855653.2, 0, None, 0, 0, 0], '0:0:0:0:86': [13767221.1, 0, None, 0, 0, 0], '0:0:0:0:87': [13675015.8, 0, None, 0, 0, 0], '0:0:0:0:88': [13799237.1, 0, None, 0, 0, 0], '0:0:0:0:89': [13907526.1, 0, None, 0, 0, 0], '0:0:0:0:90': [13940120.2, 0, None, 0, 0, 0], '0:0:0:0:91': [13973224.9, 0, None, 0, 0, 0], '0:0:0:0:92': [14005909.3, 0, None, 0, 0, 0], '0:0:0:0:93': [14000010.0, 0, None, 0, 0, 0], '0:0:0:0:94': [14154069.1, 0, None, 0, 0, 0], '0:0:0:0:95': [14353366.7, 0, None, 0, 0, 0], '0:0:0:0:96': [14575545.4, 0, None, 0, 0, 0], '0:0:0:0:97': [14543598.2, 0, None, 0, 0, 0], '0:0:0:0:98': [14736667.7, 0, None, 0, 0, 0], '0:0:0:0:99': [14761041.5, 0, None, 0, 0, 0], '0:0:0:0:100': [14802885.6, 0, None, 0, 0, 0], '0:0:0:0:101': [14927476.0, 0, None, 0, 0, 0], '0:0:0:0:102': [15177095.3, 0, None, 0, 0, 0], '0:0:0:0:103': [15443695.6, 0, None, 0, 0, 0], '0:0:0:0:104': [15594324.5, 0, None, 0, 0, 0], '0:0:0:0:105': [15637218.6, 0, None, 0, 0, 0], '0:0:0:0:106': [15676243.6, 0, None, 0, 0, 0], '0:0:0:0:107': [15786840.2, 0, None, 0, 0, 0], '0:0:0:0:108': [15907864.6, 0, None, 0, 0, 0], '0:0:0:0:109': [16007949.5, 0, None, 0, 0, 0], '0:0:0:0:110': [16070924.9, 0, None, 0, 0, 0], '0:0:0:0:111': [16041495.8, 0, None, 0, 0, 0], '0:0:0:0:112': [16160031.0, 0, None, 0, 0, 0], '0:0:0:0:113': [16213523.0, 0, None, 0, 0, 0], '0:0:0:0:114': [15948785.9, 0, None, 0, 0, 0], '0:0:0:0:115': [15133260.9, 0, None, 0, 0, 0], '0:0:0:0:116': [14906680.6, 0, None, 0, 0, 0], '0:0:0:0:117': [15400030.0, 0, None, 0, 0, 0], '0:0:0:0:118': [15655180.5, 0, None, 0, 0, 0], '0:0:0:0:119': [15820345.0, 0, None, 0, 0, 0], '0:0:0:0:120': [15992637.6, 0, None, 0, 0, 0], '0:0:0:0:121': [16144800.6, 0, None, 0, 0, 0], '0:0:0:0:122': [16268897.7, 0, None, 0, 0, 0], '0:0:0:0:123': [16393605.5, 0, None, 0, 0, 0], '0:0:0:0:124': [16480167.7, 0, None, 0, 0, 0], '0:0:0:0:125': [16800793.2, 0, None, 0, 0, 0], '0:0:0:0:126': [16910218.3, 0, None, 0, 0, 0]}}], 'structure': {'links': [{'href': 'https://stats.oecd.org/sdmx-json/dataflow/QNA/all', 'rel': 'dataflow'}], 'name': 'Quarterly National Accounts', 'description': 'Quarterly National Accounts', 'dimensions': {'observation': [{'keyPosition': 0, 'id': 'LOCATION', 'name': 'Country', 'values': [{'id': 'MEX', 'name': 'Mexico'}], 'role': 'REF_AREA'}, {'keyPosition': 1, 'id': 'SUBJECT', 'name': 'Subject', 'values': [{'id': 'B1_GE', 'name': 'Gross domestic product - expenditure approach'}]}, {'keyPosition': 2, 'id': 'MEASURE', 'name': 'Measure', 'values': [{'id': 'VOBARSA', 'name': 'National currency, volume estimates, OECD reference year, annual levels, seasonally adjusted'}]}, {'keyPosition': 3, 'id': 'FREQUENCY', 'name': 'Frequency', 'values': [{'id': 'Q', 'name': 'Quarterly'}], 'role': 'FREQ'}, {'id': 'TIME_PERIOD', 'name': 'Period', 'values': [{'id': '1980-Q2', 'name': 'Q2-1980'}, {'id': '1980-Q3', 'name': 'Q3-1980'}, {'id': '1980-Q4', 'name': 'Q4-1980'}, {'id': '1981-Q1', 'name': 'Q1-1981'}, {'id': '1981-Q2', 'name': 'Q2-1981'}, {'id': '1981-Q3', 'name': 'Q3-1981'}, {'id': '1981-Q4', 'name': 'Q4-1981'}, {'id': '1982-Q1', 'name': 'Q1-1982'}, {'id': '1982-Q2', 'name': 'Q2-1982'}, {'id': '1982-Q3', 'name': 'Q3-1982'}, {'id': '1982-Q4', 'name': 'Q4-1982'}, {'id': '1983-Q1', 'name': 'Q1-1983'}, {'id': '1983-Q2', 'name': 'Q2-1983'}, {'id': '1983-Q3', 'name': 'Q3-1983'}, {'id': '1983-Q4', 'name': 'Q4-1983'}, {'id': '1984-Q1', 'name': 'Q1-1984'}, {'id': '1984-Q2', 'name': 'Q2-1984'}, {'id': '1984-Q3', 'name': 'Q3-1984'}, {'id': '1984-Q4', 'name': 'Q4-1984'}, {'id': '1985-Q1', 'name': 'Q1-1985'}, {'id': '1985-Q2', 'name': 'Q2-1985'}, {'id': '1985-Q3', 'name': 'Q3-1985'}, {'id': '1985-Q4', 'name': 'Q4-1985'}, {'id': '1986-Q1', 'name': 'Q1-1986'}, {'id': '1986-Q2', 'name': 'Q2-1986'}, {'id': '1986-Q3', 'name': 'Q3-1986'}, {'id': '1986-Q4', 'name': 'Q4-1986'}, {'id': '1987-Q1', 'name': 'Q1-1987'}, {'id': '1987-Q2', 'name': 'Q2-1987'}, {'id': '1987-Q3', 'name': 'Q3-1987'}, {'id': '1987-Q4', 'name': 'Q4-1987'}, {'id': '1988-Q1', 'name': 'Q1-1988'}, {'id': '1988-Q2', 'name': 'Q2-1988'}, {'id': '1988-Q3', 'name': 'Q3-1988'}, {'id': '1988-Q4', 'name': 'Q4-1988'}, {'id': '1989-Q1', 'name': 'Q1-1989'}, {'id': '1989-Q2', 'name': 'Q2-1989'}, {'id': '1989-Q3', 'name': 'Q3-1989'}, {'id': '1989-Q4', 'name': 'Q4-1989'}, {'id': '1990-Q1', 'name': 'Q1-1990'}, {'id': '1990-Q2', 'name': 'Q2-1990'}, {'id': '1990-Q3', 'name': 'Q3-1990'}, {'id': '1990-Q4', 'name': 'Q4-1990'}, {'id': '1991-Q1', 'name': 'Q1-1991'}, {'id': '1991-Q2', 'name': 'Q2-1991'}, {'id': '1991-Q3', 'name': 'Q3-1991'}, {'id': '1991-Q4', 'name': 'Q4-1991'}, {'id': '1992-Q1', 'name': 'Q1-1992'}, {'id': '1992-Q2', 'name': 'Q2-1992'}, {'id': '1992-Q3', 'name': 'Q3-1992'}, {'id': '1992-Q4', 'name': 'Q4-1992'}, {'id': '1993-Q1', 'name': 'Q1-1993'}, {'id': '1993-Q2', 'name': 'Q2-1993'}, {'id': '1993-Q3', 'name': 'Q3-1993'}, {'id': '1993-Q4', 'name': 'Q4-1993'}, {'id': '1994-Q1', 'name': 'Q1-1994'}, {'id': '1994-Q2', 'name': 'Q2-1994'}, {'id': '1994-Q3', 'name': 'Q3-1994'}, {'id': '1994-Q4', 'name': 'Q4-1994'}, {'id': '1995-Q1', 'name': 'Q1-1995'}, {'id': '1995-Q2', 'name': 'Q2-1995'}, {'id': '1995-Q3', 'name': 'Q3-1995'}, {'id': '1995-Q4', 'name': 'Q4-1995'}, {'id': '1996-Q1', 'name': 'Q1-1996'}, {'id': '1996-Q2', 'name': 'Q2-1996'}, {'id': '1996-Q3', 'name': 'Q3-1996'}, {'id': '1996-Q4', 'name': 'Q4-1996'}, {'id': '1997-Q1', 'name': 'Q1-1997'}, {'id': '1997-Q2', 'name': 'Q2-1997'}, {'id': '1997-Q3', 'name': 'Q3-1997'}, {'id': '1997-Q4', 'name': 'Q4-1997'}, {'id': '1998-Q1', 'name': 'Q1-1998'}, {'id': '1998-Q2', 'name': 'Q2-1998'}, {'id': '1998-Q3', 'name': 'Q3-1998'}, {'id': '1998-Q4', 'name': 'Q4-1998'}, {'id': '1999-Q1', 'name': 'Q1-1999'}, {'id': '1999-Q2', 'name': 'Q2-1999'}, {'id': '1999-Q3', 'name': 'Q3-1999'}, {'id': '1999-Q4', 'name': 'Q4-1999'}, {'id': '2000-Q1', 'name': 'Q1-2000'}, {'id': '2000-Q2', 'name': 'Q2-2000'}, {'id': '2000-Q3', 'name': 'Q3-2000'}, {'id': '2000-Q4', 'name': 'Q4-2000'}, {'id': '2001-Q1', 'name': 'Q1-2001'}, {'id': '2001-Q2', 'name': 'Q2-2001'}, {'id': '2001-Q3', 'name': 'Q3-2001'}, {'id': '2001-Q4', 'name': 'Q4-2001'}, {'id': '2002-Q1', 'name': 'Q1-2002'}, {'id': '2002-Q2', 'name': 'Q2-2002'}, {'id': '2002-Q3', 'name': 'Q3-2002'}, {'id': '2002-Q4', 'name': 'Q4-2002'}, {'id': '2003-Q1', 'name': 'Q1-2003'}, {'id': '2003-Q2', 'name': 'Q2-2003'}, {'id': '2003-Q3', 'name': 'Q3-2003'}, {'id': '2003-Q4', 'name': 'Q4-2003'}, {'id': '2004-Q1', 'name': 'Q1-2004'}, {'id': '2004-Q2', 'name': 'Q2-2004'}, {'id': '2004-Q3', 'name': 'Q3-2004'}, {'id': '2004-Q4', 'name': 'Q4-2004'}, {'id': '2005-Q1', 'name': 'Q1-2005'}, {'id': '2005-Q2', 'name': 'Q2-2005'}, {'id': '2005-Q3', 'name': 'Q3-2005'}, {'id': '2005-Q4', 'name': 'Q4-2005'}, {'id': '2006-Q1', 'name': 'Q1-2006'}, {'id': '2006-Q2', 'name': 'Q2-2006'}, {'id': '2006-Q3', 'name': 'Q3-2006'}, {'id': '2006-Q4', 'name': 'Q4-2006'}, {'id': '2007-Q1', 'name': 'Q1-2007'}, {'id': '2007-Q2', 'name': 'Q2-2007'}, {'id': '2007-Q3', 'name': 'Q3-2007'}, {'id': '2007-Q4', 'name': 'Q4-2007'}, {'id': '2008-Q1', 'name': 'Q1-2008'}, {'id': '2008-Q2', 'name': 'Q2-2008'}, {'id': '2008-Q3', 'name': 'Q3-2008'}, {'id': '2008-Q4', 'name': 'Q4-2008'}, {'id': '2009-Q1', 'name': 'Q1-2009'}, {'id': '2009-Q2', 'name': 'Q2-2009'}, {'id': '2009-Q3', 'name': 'Q3-2009'}, {'id': '2009-Q4', 'name': 'Q4-2009'}, {'id': '2010-Q1', 'name': 'Q1-2010'}, {'id': '2010-Q2', 'name': 'Q2-2010'}, {'id': '2010-Q3', 'name': 'Q3-2010'}, {'id': '2010-Q4', 'name': 'Q4-2010'}, {'id': '2011-Q1', 'name': 'Q1-2011'}, {'id': '2011-Q2', 'name': 'Q2-2011'}, {'id': '2011-Q3', 'name': 'Q3-2011'}, {'id': '2011-Q4', 'name': 'Q4-2011'}], 'role': 'TIME_PERIOD'}]}, 'attributes': {'dataSet': [], 'series': [], 'observation': [{'id': 'TIME_FORMAT', 'name': 'Time Format', 'values': [{'id': 'P3M', 'name': 'Quarterly'}]}, {'id': 'OBS_STATUS', 'name': 'Observation Status', 'values': [{'id': 'E', 'name': 'Estimated value'}]}, {'id': 'UNIT', 'name': 'Unit', 'values': [{'id': 'MXN', 'name': 'Mexican Peso'}], 'role': 'UNIT_MEASURE'}, {'id': 'POWERCODE', 'name': 'Unit multiplier', 'default': '0', 'values': [{'id': '6', 'name': 'Millions'}], 'role': 'UNIT_MULT'}, {'id': 'REFERENCEPERIOD', 'name': 'Reference period', 'values': [{'id': '2015', 'name': '2015'}], 'role': 'BASE_PER'}]}, 'annotations': [{'title': 'Copyright OECD - All rights reserved', 'uri': '', 'text': ''}, {'title': 'Terms and Conditions', 'uri': 'http://www.oecd.org/termsandconditions/', 'text': ''}, {'title': 'Privacy Policy', 'uri': 'http://www.oecd.org/privacy/', 'text': ''}, {'title': 'MyOECD', 'uri': 'https://www.oecd.org/login', 'text': ''}, {'title': 'Contact Us', 'uri': 'http://www.oecd.org/contact/', 'text': ''}]}}\n"
     ]
    }
   ],
   "source": [
    "import pandas as pd #For data manipulation\n",
    "import numpy as np #For matrices handling\n",
    "import requests #For API interaction\n",
    "\n",
    "#We will work with data from Mexico and Canada, 1980 to 2022, quarterly. Check for sources.\n",
    "api_url = \"http://stats.oecd.org/sdmx-json/data/QNA/MEX.GDP+B1_GE.CUR+VOBARSA.Q/all?startTime=1980-Q2&endTime=2011-Q4&dimensionAtObservation=allDimensions\"\n",
    "data = {\"GDP\":\"\",\"I\":\"\",\"C\":\"\",\"NX\":\"\",\"I\":\"\",\"X\":\"\"}\n",
    "response = requests.get(api_url)\n",
    "print(response.json())\n",
    "#aux = pd.DataFrame.from_dict(response.json()[1:])\n",
    "#aux.columns = response.json()[0] \n",
    "\n",
    "\n",
    "#Variables are: Output, Household Consumption (excl. Gov consumption), or private consumption\n",
    "#Investment (as gross fixed capital accumulation), Net exports (X-I).\n",
    "\n",
    "#Seasonal adjustment Using X12 ARIMA.\n",
    "\n",
    "#Filterred of the series using HP 1600, (robust check with band pass freqs btw 6 and 32\n",
    "\n",
    "#Moments of the RBC covered (using GMM, standard errores reported in parenthesis.)\n",
    "\n",
    "#Exporting tables for authors contribution\n",
    "\n",
    "#Figures for presentation.\n"
   ]
  }
 ],
 "metadata": {
  "kernelspec": {
   "display_name": "base",
   "language": "python",
   "name": "python3"
  },
  "language_info": {
   "codemirror_mode": {
    "name": "ipython",
    "version": 3
   },
   "file_extension": ".py",
   "mimetype": "text/x-python",
   "name": "python",
   "nbconvert_exporter": "python",
   "pygments_lexer": "ipython3",
   "version": "3.9.13"
  },
  "orig_nbformat": 4,
  "vscode": {
   "interpreter": {
    "hash": "19c52f9406ed8ee88add4472b642b79c35ade567538d579e8a14fbefe9c2ac9c"
   }
  }
 },
 "nbformat": 4,
 "nbformat_minor": 2
}
