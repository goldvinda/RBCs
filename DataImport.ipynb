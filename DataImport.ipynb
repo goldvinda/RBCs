{
 "cells": [
  {
   "attachments": {},
   "cell_type": "markdown",
   "metadata": {},
   "source": [
    "**Replication of Aguiar & Gopinath (2007): Emerging Market Business Cycles: The cycle is the trend**\n",
    "\n",
    "Empirical regularities + Matlab Codes"
   ]
  },
  {
   "cell_type": "code",
   "execution_count": null,
   "metadata": {},
   "outputs": [],
   "source": [
    "import pandas as pd\n",
    "import numpy as np\n",
    "\n",
    "#We will work with data from Mexico and Canada, 1980 to 2022, quarterly. Check for sources\n",
    "\n",
    "#Costruct variables of analysis (taking care of indices).\n",
    "\n",
    "#Detrending, smoothing and statistics.\n"
   ]
  }
 ],
 "metadata": {
  "language_info": {
   "name": "python"
  },
  "orig_nbformat": 4
 },
 "nbformat": 4,
 "nbformat_minor": 2
}
