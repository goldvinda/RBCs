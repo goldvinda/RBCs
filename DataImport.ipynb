{
 "cells": [
  {
   "attachments": {},
   "cell_type": "markdown",
   "metadata": {},
   "source": [
    "**Replication of Aguiar & Gopinath (2007): Emerging Market Business Cycles: The cycle is the trend**\n",
    "\n",
    "Empirical regularities\n"
   ]
  },
  {
   "attachments": {},
   "cell_type": "markdown",
   "metadata": {},
   "source": [
    "--> Define the primitives of the code (modules + variables)"
   ]
  },
  {
   "cell_type": "code",
   "execution_count": 7,
   "metadata": {},
   "outputs": [],
   "source": [
    "import pandas as pd  # For data manipulation\n",
    "import numpy as np  # For matrices handling\n",
    "import requests  # For API interaction\n",
    "import statsmodels.api as sm # For HP filtering \n",
    "\n",
    "#Environment definition. OECD is the binding restriction for the data. \n",
    "variables = {\"GDP\": \"GDP+B1_GE\", \"C\": \"P31S14_S15\", \"Cg\": \"P3S13\", \"X\": \"P6\", \"M\": \"P7\", \"I\": \"P51\"}\n",
    "dates = {\"start\": \"2003-Q1\", \"end\": \"2022-Q3\"}\n",
    "countries = [\"MEX\",\"KOR\",\"TUR\",\"SVK\",\"CAN\",\"NOR\",\"ESP\",\"NZL\"]\n",
    "data = {}"
   ]
  },
  {
   "attachments": {},
   "cell_type": "markdown",
   "metadata": {},
   "source": [
    "--> Do some API Endpoint interaction"
   ]
  },
  {
   "cell_type": "code",
   "execution_count": 8,
   "metadata": {},
   "outputs": [],
   "source": [
    "#API endpoint interaction, We will work with data from Mexico and Canada, 1980 to 2022, quarterly. Check for sources.\n",
    "for country in countries:\n",
    "\n",
    "    #Create an empty DataFrame for each country of interest.\n",
    "    data[country] = pd.DataFrame(columns=[\"DATE\",\"GDP\", \"C\", \"X\", \"M\", \"NX\", \"I\"])\n",
    "\n",
    "    for key in variables:\n",
    "        #Seek the variables of interest in the OECD API!\n",
    "        api_url = f'http://stats.oecd.org/sdmx-json/data/QNA/{country}.{variables[key]}.VPVOBARSA.Q/all?startTime={dates[\"start\"]}&endTime={dates[\"end\"]}&dimensionAtObservation=allDimensions'\n",
    "        response = requests.get(api_url)\n",
    "        # Variables are: Output, Household Consumption (excl. Gov consumption), or private consumption Investment (as gross fixed capital accumulation), Net exports (X-M). Create them from this datapoint.\n",
    "        data[country][\"ln_\"+key] = list(map(lambda i: np.log(response.json()[\"dataSets\"][0][\"observations\"][i][0]) ,response.json()[\"dataSets\"][0][\"observations\"]))\n",
    "        data[country][key] = list(map(lambda i: response.json()[\"dataSets\"][0][\"observations\"][i][0] ,response.json()[\"dataSets\"][0][\"observations\"]))\n",
    "        # Filterred of the series using HP 1600, (robust check with band pass freqs btw 6 and 32\n",
    "        data[country][key+\"_cycle\"],data[country][key+\"_trend\"]  = sm.tsa.filters.hpfilter(data[country][\"ln_\"+key], 1600)\n",
    "    \n",
    "    #Net Exports (X-M)\n",
    "    data[country][\"NX\"] = data[country][\"X\"] - data[country][\"M\"]\n",
    "    data[country][\"NXGDP\"] = data[country][\"NX\"] / data[country][\"GDP\"]\n",
    "    \n",
    "    #Just for robusticity, set DATE accordingly.\n",
    "    data[country][\"DATE\"] = list(map(lambda i: i[\"id\"], response.json()[\"structure\"][\"dimensions\"][\"observation\"][4]['values']))\n",
    "    data[country] = data[country].set_index(\"DATE\")\n",
    "    \n",
    "    #volatility of output filtered\n",
    "    data[country][\"sigma_GDP\"] = data[country][\"GDP_cycle\"].std()\n",
    "    \n",
    "    #volatility of first diff of unfiltered log output\n",
    "    data[country][\"sigma_deltaGDP\"] = data[country][\"GDP_cycle\"].diff().std()\n",
    "    \n",
    "    #Autocorrelation filtered output vs t-1\n",
    "    data[country][\"rho_GDP_GDP-1\"] = data[country][\"GDP_cycle\"].autocorr(lag=1)\n",
    "    \n",
    "    #Autocorrelation unfiltered diff vs t-1    \n",
    "    data[country][\"rho_deltaGDP_deltaGDP-1\"] = data[country][\"GDP_cycle\"].diff().autocorr(lag=1)\n",
    "    \n",
    "    #Ratio of volatility of filtered c/gdp\n",
    "    data[country][\"sigma_C/sigma_GDP\"] = data[country][\"C_cycle\"].std() / data[country][\"GDP_cycle\"].std()\n",
    "    \n",
    "    #Ratio of volatility of filtered I/gdp\n",
    "    data[country][\"sigma_I/sigma_GDP\"] = data[country][\"I_cycle\"].std() / data[country][\"GDP_cycle\"].std()\n",
    "    \n",
    "    #Volatility of ratio NX/gdp\n",
    "    data[country][\"sigma_NXGDP\"] = data[country][\"NXGDP\"].std()\n",
    "    \n",
    "    #Autocorrelation c,gdp\n",
    "    data[country][\"rho_C_GDP\"] = data[country][\"GDP_cycle\"].corr(data[country][\"C_cycle\"])\n",
    "    \n",
    "    #Autocorrelation I,gdp\n",
    "    data[country][\"rho_I_GDP\"] = data[country][\"GDP_cycle\"].corr(data[country][\"I_cycle\"])\n",
    "    \n",
    "    #Autocorrelation NX/Y,Y\n",
    "    data[country][\"rho_NY/Y_GDP\"] = data[country][\"GDP_cycle\"].corr(data[country][\"NXGDP\"])"
   ]
  },
  {
   "attachments": {},
   "cell_type": "markdown",
   "metadata": {},
   "source": [
    "--> Create the sheets."
   ]
  },
  {
   "cell_type": "code",
   "execution_count": 6,
   "metadata": {},
   "outputs": [],
   "source": [
    "# Exporting tables for authors contributions\n",
    "with pd.ExcelWriter('data.xlsx') as writer:\n",
    "    for sheet_name, df in data.items():\n",
    "        df.to_excel(writer, sheet_name)"
   ]
  }
 ],
 "metadata": {
  "kernelspec": {
   "display_name": "base",
   "language": "python",
   "name": "python3"
  },
  "language_info": {
   "codemirror_mode": {
    "name": "ipython",
    "version": 3
   },
   "file_extension": ".py",
   "mimetype": "text/x-python",
   "name": "python",
   "nbconvert_exporter": "python",
   "pygments_lexer": "ipython3",
   "version": "3.9.13"
  },
  "orig_nbformat": 4,
  "vscode": {
   "interpreter": {
    "hash": "19c52f9406ed8ee88add4472b642b79c35ade567538d579e8a14fbefe9c2ac9c"
   }
  }
 },
 "nbformat": 4,
 "nbformat_minor": 2
}
